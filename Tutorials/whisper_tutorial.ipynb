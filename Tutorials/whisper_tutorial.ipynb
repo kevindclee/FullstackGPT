{
 "cells": [
  {
   "cell_type": "code",
   "execution_count": 12,
   "metadata": {},
   "outputs": [
    {
     "name": "stdout",
     "output_type": "stream",
     "text": [
      "CompletedProcess(args=['dir'], returncode=0, stdout=b' C \\xb5\\xe5\\xb6\\xf3\\xc0\\xcc\\xba\\xea\\xc0\\xc7 \\xba\\xbc\\xb7\\xfd\\xbf\\xa1\\xb4\\xc2 \\xc0\\xcc\\xb8\\xa7\\xc0\\xcc \\xbe\\xf8\\xbd\\xc0\\xb4\\xcf\\xb4\\xd9.\\r\\n \\xba\\xbc\\xb7\\xfd \\xc0\\xcf\\xb7\\xc3 \\xb9\\xf8\\xc8\\xa3: 7EE3-B693\\r\\n\\r\\n c:\\\\Users\\\\kevin\\\\Documents\\\\NomadCoder\\\\FullstackGPT\\\\Tutorials \\xb5\\xf0\\xb7\\xba\\xc5\\xcd\\xb8\\xae\\r\\n\\r\\n02/24/2024  10:01 PM    <DIR>          .\\r\\n02/20/2024  04:13 PM    <DIR>          ..\\r\\n02/24/2024  09:18 PM             1,249 04_SiteGPT_practice.py\\r\\n02/22/2024  07:44 PM             3,735 huggingface_tutorial.ipynb\\r\\n02/24/2024  11:16 AM            94,069 langchain_tutorial.ipynb\\r\\n02/16/2024  11:15 PM               628 main.py\\r\\n02/17/2024  04:06 PM               252 model1.json\\r\\n02/17/2024  03:26 PM               133 prompt.json\\r\\n02/17/2024  03:26 PM                91 prompt.yaml\\r\\n02/20/2024  02:41 PM             1,768 streamlit_tutorial.py\\r\\n02/24/2024  10:34 PM            11,272 whisper_tutorial.ipynb\\r\\n               9\\xb0\\xb3 \\xc6\\xc4\\xc0\\xcf             113,197 \\xb9\\xd9\\xc0\\xcc\\xc6\\xae\\r\\n               2\\xb0\\xb3 \\xb5\\xf0\\xb7\\xba\\xc5\\xcd\\xb8\\xae  300,153,667,584 \\xb9\\xd9\\xc0\\xcc\\xc6\\xae \\xb3\\xb2\\xc0\\xbd\\r\\n', stderr=b'')\n"
     ]
    }
   ],
   "source": [
    "import subprocess\n",
    "\n",
    "\n",
    "output = subprocess.run([\"dir\"], shell=True, capture_output=True)\n",
    "print(output)"
   ]
  },
  {
   "cell_type": "code",
   "execution_count": 13,
   "metadata": {},
   "outputs": [],
   "source": [
    "import subprocess\n",
    "\n",
    "\n",
    "def extract_audio_from_video(video_path, audio_path):\n",
    "    command = [\n",
    "        \"ffmpeg\",\n",
    "        \"-i\",\n",
    "        video_path,\n",
    "        \"-vn\",\n",
    "        audio_path,\n",
    "    ]\n",
    "    subprocess.run(command, shell=True)\n",
    "\n",
    "\n",
    "extract_audio_from_video(\n",
    "    \"../files/podcast.mp4\",\n",
    "    \"../files/podcast.mp3\",\n",
    ")"
   ]
  },
  {
   "cell_type": "code",
   "execution_count": null,
   "metadata": {},
   "outputs": [],
   "source": [
    "import subprocess\n",
    "from pydub import AudioSegment\n",
    "\n",
    "\n",
    "def extract_audio_from_video(video_path, audio_path):\n",
    "    command = [\n",
    "        \"ffmpeg\",\n",
    "        \"-i\",\n",
    "        video_path,\n",
    "        \"-vn\",\n",
    "        audio_path,\n",
    "    ]\n",
    "    subprocess.run(command)\n",
    "\n",
    "\n",
    "track = AudioSegment.from_mp3(\"./files/podcast.mp3\")\n",
    "\n",
    "ten_minutes = 10 * 60 * 1000"
   ]
  },
  {
   "cell_type": "code",
   "execution_count": null,
   "metadata": {},
   "outputs": [],
   "source": [
    "import math\n",
    "\n",
    "chunks = math.ceil(len(track) / ten_minutes)\n",
    "\n",
    "for i in range(chunks):\n",
    "    start_time = i * ten_minutes\n",
    "    end_time = (i + 1) * ten_minutes\n",
    "\n",
    "    chunk = track[start_time:end_time]\n",
    "\n",
    "    chunk.export(f\"./files/chunks/chunk_{i}.mp3\", format=\"mp3\")"
   ]
  },
  {
   "cell_type": "code",
   "execution_count": null,
   "metadata": {},
   "outputs": [],
   "source": [
    "import subprocess\n",
    "from pydub import AudioSegment\n",
    "import math\n",
    "\n",
    "\n",
    "def extract_audio_from_video(video_path, audio_path):\n",
    "    command = [\n",
    "        \"ffmpeg\",\n",
    "        \"-i\",\n",
    "        video_path,\n",
    "        \"-vn\",\n",
    "        audio_path,\n",
    "    ]\n",
    "    subprocess.run(command)\n",
    "\n",
    "\n",
    "def cut_audio_in_chunks(audio_path, chunk_size, chunks_folder):\n",
    "    track = AudioSegment.from_mp3(audio_path)\n",
    "    chunk_len = chunk_size * 60 * 1000\n",
    "    chunks = math.ceil(len(track) / chunk_len)\n",
    "    for i in range(chunks):\n",
    "        start_time = i * chunk_len\n",
    "        end_time = (i + 1) * chunk_len\n",
    "\n",
    "        chunk = track[start_time:end_time]\n",
    "\n",
    "        chunk.export(f\"./{chunks_folder}/chunk_{i}.mp3\", format=\"mp3\")"
   ]
  },
  {
   "cell_type": "code",
   "execution_count": null,
   "metadata": {},
   "outputs": [],
   "source": [
    "from typing import final\n",
    "import openai\n",
    "import glob\n",
    "\n",
    "\n",
    "def transcribe_chunks(chunk_folder, destination):\n",
    "    files = glob.glob(f\"{chunk_folder}/*.mp3\")\n",
    "    final_transcript = \"\"\n",
    "    for file in files:\n",
    "        with open(file, \"rb\") as audio_file:\n",
    "            transcript = openai.Audio.transcribe(\n",
    "                \"whisper-1\",\n",
    "                audio_file,\n",
    "            )\n",
    "            final_transcript += transcript[\"text\"]\n",
    "    with open(destination, \"w\") as file:\n",
    "        file.write(final_transcript)"
   ]
  }
 ],
 "metadata": {
  "kernelspec": {
   "display_name": "nomad-gpt",
   "language": "python",
   "name": "python3"
  },
  "language_info": {
   "codemirror_mode": {
    "name": "ipython",
    "version": 3
   },
   "file_extension": ".py",
   "mimetype": "text/x-python",
   "name": "python",
   "nbconvert_exporter": "python",
   "pygments_lexer": "ipython3",
   "version": "3.11.7"
  }
 },
 "nbformat": 4,
 "nbformat_minor": 2
}
